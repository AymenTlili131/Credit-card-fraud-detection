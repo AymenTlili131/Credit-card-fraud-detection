{
 "cells": [
  {
   "cell_type": "code",
   "execution_count": 25,
   "id": "d34ee83d-5ab5-4041-9d4d-6b63fa56152b",
   "metadata": {},
   "outputs": [],
   "source": [
    "import pandas as pd \n",
    "import re\n",
    "import numpy as np\n",
    "import matplotlib.pylab as plt\n",
    "import seaborn as sns\n",
    "pd.options.display.max_columns= 200\n",
    "plt.style.use('ggplot')"
   ]
  },
  {
   "cell_type": "code",
   "execution_count": 67,
   "id": "22bf064a-3372-4482-8acd-965a575898e3",
   "metadata": {},
   "outputs": [],
   "source": [
    "df= pd.read_csv('../Data/Batch 4/Batch4.csv')"
   ]
  },
  {
   "cell_type": "code",
   "execution_count": 68,
   "id": "68d65e73-2fec-4fb8-9a0b-64aafb8c26dd",
   "metadata": {},
   "outputs": [
    {
     "data": {
      "text/html": [
       "<div>\n",
       "<style scoped>\n",
       "    .dataframe tbody tr th:only-of-type {\n",
       "        vertical-align: middle;\n",
       "    }\n",
       "\n",
       "    .dataframe tbody tr th {\n",
       "        vertical-align: top;\n",
       "    }\n",
       "\n",
       "    .dataframe thead th {\n",
       "        text-align: right;\n",
       "    }\n",
       "</style>\n",
       "<table border=\"1\" class=\"dataframe\">\n",
       "  <thead>\n",
       "    <tr style=\"text-align: right;\">\n",
       "      <th></th>\n",
       "      <th>Unnamed: 0</th>\n",
       "      <th>trans_date_trans_time</th>\n",
       "      <th>cc_num</th>\n",
       "      <th>merchant</th>\n",
       "      <th>category</th>\n",
       "      <th>amt</th>\n",
       "      <th>first</th>\n",
       "      <th>last</th>\n",
       "      <th>gender</th>\n",
       "      <th>street</th>\n",
       "      <th>city</th>\n",
       "      <th>state</th>\n",
       "      <th>zip</th>\n",
       "      <th>lat</th>\n",
       "      <th>long</th>\n",
       "      <th>city_pop</th>\n",
       "      <th>job</th>\n",
       "      <th>dob</th>\n",
       "      <th>trans_num</th>\n",
       "      <th>unix_time</th>\n",
       "      <th>merch_lat</th>\n",
       "      <th>merch_long</th>\n",
       "      <th>is_fraud</th>\n",
       "    </tr>\n",
       "  </thead>\n",
       "  <tbody>\n",
       "    <tr>\n",
       "      <th>0</th>\n",
       "      <td>92621</td>\n",
       "      <td>2020-07-23 12:12:10</td>\n",
       "      <td>4457732997086323466</td>\n",
       "      <td>fraud_Renner Ltd</td>\n",
       "      <td>home</td>\n",
       "      <td>82.59</td>\n",
       "      <td>Stanley</td>\n",
       "      <td>Mayo</td>\n",
       "      <td>M</td>\n",
       "      <td>3433 Jones Branch</td>\n",
       "      <td>Fiddletown</td>\n",
       "      <td>CA</td>\n",
       "      <td>95629</td>\n",
       "      <td>38.5234</td>\n",
       "      <td>-120.6763</td>\n",
       "      <td>832</td>\n",
       "      <td>Immigration officer</td>\n",
       "      <td>1987-05-19</td>\n",
       "      <td>6830ca24c98cc9113c39c39f053a4a37</td>\n",
       "      <td>1374581530</td>\n",
       "      <td>37.563202</td>\n",
       "      <td>-120.415045</td>\n",
       "      <td>0</td>\n",
       "    </tr>\n",
       "    <tr>\n",
       "      <th>1</th>\n",
       "      <td>92622</td>\n",
       "      <td>2020-07-23 12:12:44</td>\n",
       "      <td>341542810616333</td>\n",
       "      <td>fraud_Bauch-Blanda</td>\n",
       "      <td>entertainment</td>\n",
       "      <td>147.30</td>\n",
       "      <td>Billy</td>\n",
       "      <td>Mcdonald</td>\n",
       "      <td>M</td>\n",
       "      <td>304 Ryan Port Suite 335</td>\n",
       "      <td>Camden</td>\n",
       "      <td>MO</td>\n",
       "      <td>64017</td>\n",
       "      <td>39.2048</td>\n",
       "      <td>-94.0259</td>\n",
       "      <td>464</td>\n",
       "      <td>Colour technologist</td>\n",
       "      <td>1959-05-28</td>\n",
       "      <td>f83b5029a53f155d58ac4470c827d411</td>\n",
       "      <td>1374581564</td>\n",
       "      <td>38.268736</td>\n",
       "      <td>-93.945110</td>\n",
       "      <td>0</td>\n",
       "    </tr>\n",
       "  </tbody>\n",
       "</table>\n",
       "</div>"
      ],
      "text/plain": [
       "   Unnamed: 0 trans_date_trans_time               cc_num            merchant  \\\n",
       "0       92621   2020-07-23 12:12:10  4457732997086323466    fraud_Renner Ltd   \n",
       "1       92622   2020-07-23 12:12:44      341542810616333  fraud_Bauch-Blanda   \n",
       "\n",
       "        category     amt    first      last gender                   street  \\\n",
       "0           home   82.59  Stanley      Mayo      M        3433 Jones Branch   \n",
       "1  entertainment  147.30    Billy  Mcdonald      M  304 Ryan Port Suite 335   \n",
       "\n",
       "         city state    zip      lat      long  city_pop                  job  \\\n",
       "0  Fiddletown    CA  95629  38.5234 -120.6763       832  Immigration officer   \n",
       "1      Camden    MO  64017  39.2048  -94.0259       464  Colour technologist   \n",
       "\n",
       "          dob                         trans_num   unix_time  merch_lat  \\\n",
       "0  1987-05-19  6830ca24c98cc9113c39c39f053a4a37  1374581530  37.563202   \n",
       "1  1959-05-28  f83b5029a53f155d58ac4470c827d411  1374581564  38.268736   \n",
       "\n",
       "   merch_long  is_fraud  \n",
       "0 -120.415045         0  \n",
       "1  -93.945110         0  "
      ]
     },
     "execution_count": 68,
     "metadata": {},
     "output_type": "execute_result"
    }
   ],
   "source": [
    "df.head(2)"
   ]
  },
  {
   "cell_type": "code",
   "execution_count": 69,
   "id": "eee0bedf-bdb7-4ea0-9aef-605389751855",
   "metadata": {},
   "outputs": [
    {
     "data": {
      "text/plain": [
       "(463098, 23)"
      ]
     },
     "execution_count": 69,
     "metadata": {},
     "output_type": "execute_result"
    }
   ],
   "source": [
    "df.shape"
   ]
  },
  {
   "cell_type": "code",
   "execution_count": 70,
   "id": "40fd2206-ac93-47fa-a379-3c15a6ceee23",
   "metadata": {},
   "outputs": [
    {
     "data": {
      "text/plain": [
       "Index(['Unnamed: 0', 'trans_date_trans_time', 'cc_num', 'merchant', 'category',\n",
       "       'amt', 'first', 'last', 'gender', 'street', 'city', 'state', 'zip',\n",
       "       'lat', 'long', 'city_pop', 'job', 'dob', 'trans_num', 'unix_time',\n",
       "       'merch_lat', 'merch_long', 'is_fraud'],\n",
       "      dtype='object')"
      ]
     },
     "execution_count": 70,
     "metadata": {},
     "output_type": "execute_result"
    }
   ],
   "source": [
    "df.columns"
   ]
  },
  {
   "cell_type": "code",
   "execution_count": 71,
   "id": "73176ae2-4dab-4b21-9701-11fa19eff6f9",
   "metadata": {},
   "outputs": [
    {
     "data": {
      "text/plain": [
       "(463098, 20)"
      ]
     },
     "execution_count": 71,
     "metadata": {},
     "output_type": "execute_result"
    }
   ],
   "source": [
    "df=df.drop(axis=1,columns=['Unnamed: 0','cc_num','trans_num',])\n",
    "df.shape"
   ]
  },
  {
   "cell_type": "code",
   "execution_count": 72,
   "id": "708a9b20-0763-44bd-9088-b63dc8f4d627",
   "metadata": {},
   "outputs": [
    {
     "data": {
      "text/html": [
       "<div>\n",
       "<style scoped>\n",
       "    .dataframe tbody tr th:only-of-type {\n",
       "        vertical-align: middle;\n",
       "    }\n",
       "\n",
       "    .dataframe tbody tr th {\n",
       "        vertical-align: top;\n",
       "    }\n",
       "\n",
       "    .dataframe thead th {\n",
       "        text-align: right;\n",
       "    }\n",
       "</style>\n",
       "<table border=\"1\" class=\"dataframe\">\n",
       "  <thead>\n",
       "    <tr style=\"text-align: right;\">\n",
       "      <th></th>\n",
       "      <th>trans_date_trans_time</th>\n",
       "      <th>merchant</th>\n",
       "      <th>category</th>\n",
       "      <th>amt</th>\n",
       "      <th>first</th>\n",
       "      <th>last</th>\n",
       "      <th>gender</th>\n",
       "      <th>street</th>\n",
       "      <th>city</th>\n",
       "      <th>state</th>\n",
       "      <th>zip</th>\n",
       "      <th>lat</th>\n",
       "      <th>long</th>\n",
       "      <th>city_pop</th>\n",
       "      <th>job</th>\n",
       "      <th>dob</th>\n",
       "      <th>unix_time</th>\n",
       "      <th>merch_lat</th>\n",
       "      <th>merch_long</th>\n",
       "      <th>is_fraud</th>\n",
       "    </tr>\n",
       "  </thead>\n",
       "  <tbody>\n",
       "    <tr>\n",
       "      <th>0</th>\n",
       "      <td>2020-07-23 12:12:10</td>\n",
       "      <td>fraud_Renner Ltd</td>\n",
       "      <td>home</td>\n",
       "      <td>82.59</td>\n",
       "      <td>Stanley</td>\n",
       "      <td>Mayo</td>\n",
       "      <td>M</td>\n",
       "      <td>3433 Jones Branch</td>\n",
       "      <td>Fiddletown</td>\n",
       "      <td>CA</td>\n",
       "      <td>95629</td>\n",
       "      <td>38.5234</td>\n",
       "      <td>-120.6763</td>\n",
       "      <td>832</td>\n",
       "      <td>Immigration officer</td>\n",
       "      <td>1987-05-19</td>\n",
       "      <td>1374581530</td>\n",
       "      <td>37.563202</td>\n",
       "      <td>-120.415045</td>\n",
       "      <td>0</td>\n",
       "    </tr>\n",
       "    <tr>\n",
       "      <th>1</th>\n",
       "      <td>2020-07-23 12:12:44</td>\n",
       "      <td>fraud_Bauch-Blanda</td>\n",
       "      <td>entertainment</td>\n",
       "      <td>147.30</td>\n",
       "      <td>Billy</td>\n",
       "      <td>Mcdonald</td>\n",
       "      <td>M</td>\n",
       "      <td>304 Ryan Port Suite 335</td>\n",
       "      <td>Camden</td>\n",
       "      <td>MO</td>\n",
       "      <td>64017</td>\n",
       "      <td>39.2048</td>\n",
       "      <td>-94.0259</td>\n",
       "      <td>464</td>\n",
       "      <td>Colour technologist</td>\n",
       "      <td>1959-05-28</td>\n",
       "      <td>1374581564</td>\n",
       "      <td>38.268736</td>\n",
       "      <td>-93.945110</td>\n",
       "      <td>0</td>\n",
       "    </tr>\n",
       "  </tbody>\n",
       "</table>\n",
       "</div>"
      ],
      "text/plain": [
       "  trans_date_trans_time            merchant       category     amt    first  \\\n",
       "0   2020-07-23 12:12:10    fraud_Renner Ltd           home   82.59  Stanley   \n",
       "1   2020-07-23 12:12:44  fraud_Bauch-Blanda  entertainment  147.30    Billy   \n",
       "\n",
       "       last gender                   street        city state    zip      lat  \\\n",
       "0      Mayo      M        3433 Jones Branch  Fiddletown    CA  95629  38.5234   \n",
       "1  Mcdonald      M  304 Ryan Port Suite 335      Camden    MO  64017  39.2048   \n",
       "\n",
       "       long  city_pop                  job         dob   unix_time  merch_lat  \\\n",
       "0 -120.6763       832  Immigration officer  1987-05-19  1374581530  37.563202   \n",
       "1  -94.0259       464  Colour technologist  1959-05-28  1374581564  38.268736   \n",
       "\n",
       "   merch_long  is_fraud  \n",
       "0 -120.415045         0  \n",
       "1  -93.945110         0  "
      ]
     },
     "execution_count": 72,
     "metadata": {},
     "output_type": "execute_result"
    }
   ],
   "source": [
    "df.head(2)"
   ]
  },
  {
   "cell_type": "code",
   "execution_count": 73,
   "id": "23afd459-9427-4563-81b7-648064d1af85",
   "metadata": {},
   "outputs": [
    {
     "data": {
      "text/plain": [
       "trans_date_trans_time     object\n",
       "merchant                  object\n",
       "category                  object\n",
       "amt                      float64\n",
       "first                     object\n",
       "last                      object\n",
       "gender                    object\n",
       "street                    object\n",
       "city                      object\n",
       "state                     object\n",
       "zip                        int64\n",
       "lat                      float64\n",
       "long                     float64\n",
       "city_pop                   int64\n",
       "job                       object\n",
       "dob                       object\n",
       "unix_time                  int64\n",
       "merch_lat                float64\n",
       "merch_long               float64\n",
       "is_fraud                   int64\n",
       "dtype: object"
      ]
     },
     "execution_count": 73,
     "metadata": {},
     "output_type": "execute_result"
    }
   ],
   "source": [
    "df.dtypes"
   ]
  },
  {
   "cell_type": "code",
   "execution_count": 74,
   "id": "17d8f6f1-1620-49e9-a862-fd0914b25a24",
   "metadata": {},
   "outputs": [],
   "source": [
    "for colname in list(df.columns) :\n",
    "    #pd.to_datetime( df.eval('trans_date_trans_time'), format='%d/%m/%Y', errors='coerce')\n",
    "    srch=re.search(r\"^[1-2][0-9][0-9][0-9]-[0-1][0-9]-\",str(df.at[0,colname]))\n",
    "    if srch is not None :\n",
    "        df[colname] = pd.to_datetime(df[colname])\n",
    "    else:\n",
    "        try:\n",
    "            pd.to_numeric(df[colname], downcast=\"float\")\n",
    "        except ValueError:\n",
    "            df[colname] = df[colname].astype(\"category\")\n",
    "            "
   ]
  },
  {
   "cell_type": "code",
   "execution_count": 75,
   "id": "bac7e3f8-145b-48ee-ae21-9cad0cea3694",
   "metadata": {},
   "outputs": [
    {
     "data": {
      "text/plain": [
       "trans_date_trans_time    datetime64[ns]\n",
       "merchant                       category\n",
       "category                       category\n",
       "amt                             float64\n",
       "first                          category\n",
       "last                           category\n",
       "gender                         category\n",
       "street                         category\n",
       "city                           category\n",
       "state                          category\n",
       "zip                               int64\n",
       "lat                             float64\n",
       "long                            float64\n",
       "city_pop                          int64\n",
       "job                            category\n",
       "dob                      datetime64[ns]\n",
       "unix_time                         int64\n",
       "merch_lat                       float64\n",
       "merch_long                      float64\n",
       "is_fraud                          int64\n",
       "dtype: object"
      ]
     },
     "execution_count": 75,
     "metadata": {},
     "output_type": "execute_result"
    }
   ],
   "source": [
    "df.dtypes"
   ]
  },
  {
   "cell_type": "code",
   "execution_count": 76,
   "id": "97627fa1-97f4-4983-907c-6eb9444774f0",
   "metadata": {},
   "outputs": [
    {
     "data": {
      "text/plain": [
       "0"
      ]
     },
     "execution_count": 76,
     "metadata": {},
     "output_type": "execute_result"
    }
   ],
   "source": [
    "df.isna().sum().sum()"
   ]
  },
  {
   "cell_type": "code",
   "execution_count": 77,
   "id": "08856fd3-a26c-4ff8-aac2-2b0771887360",
   "metadata": {},
   "outputs": [
    {
     "data": {
      "text/html": [
       "<div>\n",
       "<style scoped>\n",
       "    .dataframe tbody tr th:only-of-type {\n",
       "        vertical-align: middle;\n",
       "    }\n",
       "\n",
       "    .dataframe tbody tr th {\n",
       "        vertical-align: top;\n",
       "    }\n",
       "\n",
       "    .dataframe thead th {\n",
       "        text-align: right;\n",
       "    }\n",
       "</style>\n",
       "<table border=\"1\" class=\"dataframe\">\n",
       "  <thead>\n",
       "    <tr style=\"text-align: right;\">\n",
       "      <th></th>\n",
       "      <th>trans_date_trans_time</th>\n",
       "      <th>merchant</th>\n",
       "      <th>category</th>\n",
       "      <th>amt</th>\n",
       "      <th>first</th>\n",
       "      <th>last</th>\n",
       "      <th>gender</th>\n",
       "      <th>street</th>\n",
       "      <th>city</th>\n",
       "      <th>state</th>\n",
       "      <th>zip</th>\n",
       "      <th>lat</th>\n",
       "      <th>long</th>\n",
       "      <th>city_pop</th>\n",
       "      <th>job</th>\n",
       "      <th>dob</th>\n",
       "      <th>unix_time</th>\n",
       "      <th>merch_lat</th>\n",
       "      <th>merch_long</th>\n",
       "      <th>is_fraud</th>\n",
       "    </tr>\n",
       "  </thead>\n",
       "  <tbody>\n",
       "  </tbody>\n",
       "</table>\n",
       "</div>"
      ],
      "text/plain": [
       "Empty DataFrame\n",
       "Columns: [trans_date_trans_time, merchant, category, amt, first, last, gender, street, city, state, zip, lat, long, city_pop, job, dob, unix_time, merch_lat, merch_long, is_fraud]\n",
       "Index: []"
      ]
     },
     "execution_count": 77,
     "metadata": {},
     "output_type": "execute_result"
    }
   ],
   "source": [
    "df.loc[df.duplicated()]"
   ]
  },
  {
   "cell_type": "markdown",
   "id": "b8729922-d855-40d4-911c-fb190a5f781f",
   "metadata": {},
   "source": [
    "## Step 3: Feature Understanding\n",
    "(Univariate analysis)\n",
    "\n",
    "- Plotting Feature Distributions \n",
    "    - Histogram\n",
    "    - KDE\n",
    "    - Boxplot"
   ]
  },
  {
   "cell_type": "code",
   "execution_count": 78,
   "id": "036a29a0-224e-42fb-9a0a-b655b23be568",
   "metadata": {},
   "outputs": [
    {
     "data": {
      "text/plain": [
       "Index(['trans_date_trans_time', 'merchant', 'category', 'amt', 'first', 'last',\n",
       "       'gender', 'street', 'city', 'state', 'zip', 'lat', 'long', 'city_pop',\n",
       "       'job', 'dob', 'unix_time', 'merch_lat', 'merch_long', 'is_fraud'],\n",
       "      dtype='object')"
      ]
     },
     "execution_count": 78,
     "metadata": {},
     "output_type": "execute_result"
    }
   ],
   "source": [
    "df.columns"
   ]
  },
  {
   "cell_type": "code",
   "execution_count": 79,
   "id": "0a9e1025-ae33-4329-9651-9f885a6fee97",
   "metadata": {},
   "outputs": [
    {
     "data": {
      "image/png": "[encoded data removed]",
      "text/plain": [
       "<Figure size 640x480 with 1 Axes>"
      ]
     },
     "metadata": {},
     "output_type": "display_data"
    }
   ],
   "source": [
    "ax = df['city'].value_counts() \\\n",
    "    .head(10) \\\n",
    "    .plot(kind='bar', title='Top 10 biggest Transactions city origins')\n",
    "ax.set_xlabel('city')\n",
    "ax.set_ylabel('Count')\n",
    "plt.savefig(\"../Plots and Images/Batch4City.svg\")"
   ]
  },
  {
   "cell_type": "code",
   "execution_count": 80,
   "id": "882bd8a0-1112-4713-86c2-779b5f5e34d5",
   "metadata": {},
   "outputs": [
    {
     "data": {
      "text/html": [
       "<div>\n",
       "<style scoped>\n",
       "    .dataframe tbody tr th:only-of-type {\n",
       "        vertical-align: middle;\n",
       "    }\n",
       "\n",
       "    .dataframe tbody tr th {\n",
       "        vertical-align: top;\n",
       "    }\n",
       "\n",
       "    .dataframe thead th {\n",
       "        text-align: right;\n",
       "    }\n",
       "</style>\n",
       "<table border=\"1\" class=\"dataframe\">\n",
       "  <thead>\n",
       "    <tr style=\"text-align: right;\">\n",
       "      <th></th>\n",
       "      <th>job</th>\n",
       "    </tr>\n",
       "  </thead>\n",
       "  <tbody>\n",
       "    <tr>\n",
       "      <th>Film/video editor</th>\n",
       "      <td>3472</td>\n",
       "    </tr>\n",
       "    <tr>\n",
       "      <th>Exhibition designer</th>\n",
       "      <td>3346</td>\n",
       "    </tr>\n",
       "    <tr>\n",
       "      <th>Surveyor, land/geomatics</th>\n",
       "      <td>3157</td>\n",
       "    </tr>\n",
       "    <tr>\n",
       "      <th>Naval architect</th>\n",
       "      <td>3144</td>\n",
       "    </tr>\n",
       "    <tr>\n",
       "      <th>Designer, ceramics/pottery</th>\n",
       "      <td>2917</td>\n",
       "    </tr>\n",
       "    <tr>\n",
       "      <th>...</th>\n",
       "      <td>...</td>\n",
       "    </tr>\n",
       "    <tr>\n",
       "      <th>Administrator, arts</th>\n",
       "      <td>165</td>\n",
       "    </tr>\n",
       "    <tr>\n",
       "      <th>Geneticist, molecular</th>\n",
       "      <td>161</td>\n",
       "    </tr>\n",
       "    <tr>\n",
       "      <th>Merchandiser, retail</th>\n",
       "      <td>154</td>\n",
       "    </tr>\n",
       "    <tr>\n",
       "      <th>Operational investment banker</th>\n",
       "      <td>11</td>\n",
       "    </tr>\n",
       "    <tr>\n",
       "      <th>Software engineer</th>\n",
       "      <td>11</td>\n",
       "    </tr>\n",
       "  </tbody>\n",
       "</table>\n",
       "<p>477 rows × 1 columns</p>\n",
       "</div>"
      ],
      "text/plain": [
       "                                job\n",
       "Film/video editor              3472\n",
       "Exhibition designer            3346\n",
       "Surveyor, land/geomatics       3157\n",
       "Naval architect                3144\n",
       "Designer, ceramics/pottery     2917\n",
       "...                             ...\n",
       "Administrator, arts             165\n",
       "Geneticist, molecular           161\n",
       "Merchandiser, retail            154\n",
       "Operational investment banker    11\n",
       "Software engineer                11\n",
       "\n",
       "[477 rows x 1 columns]"
      ]
     },
     "execution_count": 80,
     "metadata": {},
     "output_type": "execute_result"
    }
   ],
   "source": [
    "dfJob=pd.DataFrame(df['job'].value_counts())\n",
    "dfJob"
   ]
  },
  {
   "cell_type": "code",
   "execution_count": 81,
   "id": "6d1a11b3-d03b-4908-942f-bb8971e7f1e8",
   "metadata": {},
   "outputs": [
    {
     "data": {
      "image/png": "[encoded data removed]",
      "text/plain": [
       "<Figure size 640x480 with 1 Axes>"
      ]
     },
     "metadata": {},
     "output_type": "display_data"
    }
   ],
   "source": [
    "ax = dfJob.head(10).plot(kind='bar', title='Top 10 frequent Professions ')\n",
    "ax.set_xlabel('Job')\n",
    "ax.set_ylabel('Count')\n",
    "plt.savefig(\"../Plots and Images/Batch4Jobs.svg\")"
   ]
  },
  {
   "cell_type": "code",
   "execution_count": 82,
   "id": "f0dc8aaf-3239-4327-9525-64d03e5f38d9",
   "metadata": {},
   "outputs": [
    {
     "data": {
      "image/png": "[encoded data removed]",
      "text/plain": [
       "<Figure size 640x480 with 1 Axes>"
      ]
     },
     "metadata": {},
     "output_type": "display_data"
    }
   ],
   "source": [
    "ax = df['gender'].value_counts() \\\n",
    "    .plot(kind='bar', title='Number of transactions by gender ')\n",
    "ax.set_xlabel('gender')\n",
    "ax.set_ylabel('Count')\n",
    "plt.savefig(\"../Plots and Images/Batch4Gender.svg\")"
   ]
  },
  {
   "cell_type": "code",
   "execution_count": 83,
   "id": "26fbcc11-3cd4-4809-b158-3f61034cee40",
   "metadata": {},
   "outputs": [
    {
     "data": {
      "text/plain": [
       "2"
      ]
     },
     "execution_count": 83,
     "metadata": {},
     "output_type": "execute_result"
    }
   ],
   "source": [
    "len(np.unique(df['is_fraud']))"
   ]
  },
  {
   "cell_type": "code",
   "execution_count": 84,
   "id": "ae153e17-70b6-41d7-997a-8c4338cc549b",
   "metadata": {},
   "outputs": [
    {
     "name": "stdout",
     "output_type": "stream",
     "text": [
      "{'Fraud': 0.38004914726472583, 'Legal': 99.61995085273527}\n"
     ]
    },
    {
     "data": {
      "image/png": "[encoded data removed]",
      "text/plain": [
       "<Figure size 640x480 with 1 Axes>"
      ]
     },
     "metadata": {},
     "output_type": "display_data"
    },
    {
     "data": {
      "text/plain": [
       "<Figure size 640x480 with 0 Axes>"
      ]
     },
     "metadata": {},
     "output_type": "display_data"
    }
   ],
   "source": [
    "rslt_df = df.loc[ df['is_fraud']== 1]\n",
    "d=dict()\n",
    "d[\"Fraud\"]=100*len(rslt_df)/len(df)\n",
    "d[\"Legal\"]=100-100*len(rslt_df)/len(df)\n",
    "print(d)\n",
    "plt.bar(d.keys(), d.values(), color='g')\n",
    "plt.title(\"Fraud(%)\")\n",
    "plt.show()\n",
    "plt.savefig(\"../Plots and Images/Batch4Fraud%.svg\")"
   ]
  },
  {
   "cell_type": "code",
   "execution_count": 85,
   "id": "f79aacf9-b94b-4352-a1e1-1ce910f58aed",
   "metadata": {},
   "outputs": [
    {
     "data": {
      "text/html": [
       "<div>\n",
       "<style scoped>\n",
       "    .dataframe tbody tr th:only-of-type {\n",
       "        vertical-align: middle;\n",
       "    }\n",
       "\n",
       "    .dataframe tbody tr th {\n",
       "        vertical-align: top;\n",
       "    }\n",
       "\n",
       "    .dataframe thead th {\n",
       "        text-align: right;\n",
       "    }\n",
       "</style>\n",
       "<table border=\"1\" class=\"dataframe\">\n",
       "  <thead>\n",
       "    <tr style=\"text-align: right;\">\n",
       "      <th></th>\n",
       "      <th>amt</th>\n",
       "      <th>zip</th>\n",
       "      <th>lat</th>\n",
       "      <th>long</th>\n",
       "      <th>city_pop</th>\n",
       "      <th>unix_time</th>\n",
       "      <th>merch_lat</th>\n",
       "      <th>merch_long</th>\n",
       "      <th>is_fraud</th>\n",
       "    </tr>\n",
       "  </thead>\n",
       "  <tbody>\n",
       "    <tr>\n",
       "      <th>count</th>\n",
       "      <td>463098.000000</td>\n",
       "      <td>463098.000000</td>\n",
       "      <td>463098.000000</td>\n",
       "      <td>463098.000000</td>\n",
       "      <td>4.630980e+05</td>\n",
       "      <td>4.630980e+05</td>\n",
       "      <td>463098.000000</td>\n",
       "      <td>463098.000000</td>\n",
       "      <td>463098.000000</td>\n",
       "    </tr>\n",
       "    <tr>\n",
       "      <th>mean</th>\n",
       "      <td>69.392401</td>\n",
       "      <td>48851.673343</td>\n",
       "      <td>38.542495</td>\n",
       "      <td>-90.238083</td>\n",
       "      <td>8.802435e+04</td>\n",
       "      <td>1.382179e+09</td>\n",
       "      <td>38.542291</td>\n",
       "      <td>-90.238094</td>\n",
       "      <td>0.003800</td>\n",
       "    </tr>\n",
       "    <tr>\n",
       "      <th>std</th>\n",
       "      <td>156.999514</td>\n",
       "      <td>26856.378049</td>\n",
       "      <td>5.061578</td>\n",
       "      <td>13.727205</td>\n",
       "      <td>3.000589e+05</td>\n",
       "      <td>4.340254e+06</td>\n",
       "      <td>5.095765</td>\n",
       "      <td>13.737948</td>\n",
       "      <td>0.061531</td>\n",
       "    </tr>\n",
       "    <tr>\n",
       "      <th>min</th>\n",
       "      <td>1.000000</td>\n",
       "      <td>1257.000000</td>\n",
       "      <td>20.027100</td>\n",
       "      <td>-165.672300</td>\n",
       "      <td>2.300000e+01</td>\n",
       "      <td>1.374582e+09</td>\n",
       "      <td>19.027422</td>\n",
       "      <td>-166.671575</td>\n",
       "      <td>0.000000</td>\n",
       "    </tr>\n",
       "    <tr>\n",
       "      <th>25%</th>\n",
       "      <td>9.630000</td>\n",
       "      <td>26250.750000</td>\n",
       "      <td>34.668900</td>\n",
       "      <td>-96.809400</td>\n",
       "      <td>7.410000e+02</td>\n",
       "      <td>1.378078e+09</td>\n",
       "      <td>34.753619</td>\n",
       "      <td>-96.910884</td>\n",
       "      <td>0.000000</td>\n",
       "    </tr>\n",
       "    <tr>\n",
       "      <th>50%</th>\n",
       "      <td>47.330000</td>\n",
       "      <td>48174.000000</td>\n",
       "      <td>39.371600</td>\n",
       "      <td>-87.476900</td>\n",
       "      <td>2.408000e+03</td>\n",
       "      <td>1.382508e+09</td>\n",
       "      <td>39.376431</td>\n",
       "      <td>-87.450318</td>\n",
       "      <td>0.000000</td>\n",
       "    </tr>\n",
       "    <tr>\n",
       "      <th>75%</th>\n",
       "      <td>83.030000</td>\n",
       "      <td>72011.000000</td>\n",
       "      <td>41.894800</td>\n",
       "      <td>-80.175200</td>\n",
       "      <td>1.968500e+04</td>\n",
       "      <td>1.386354e+09</td>\n",
       "      <td>41.952463</td>\n",
       "      <td>-80.267863</td>\n",
       "      <td>0.000000</td>\n",
       "    </tr>\n",
       "    <tr>\n",
       "      <th>max</th>\n",
       "      <td>22768.110000</td>\n",
       "      <td>99921.000000</td>\n",
       "      <td>65.689900</td>\n",
       "      <td>-67.950300</td>\n",
       "      <td>2.906700e+06</td>\n",
       "      <td>1.388534e+09</td>\n",
       "      <td>66.679297</td>\n",
       "      <td>-66.952026</td>\n",
       "      <td>1.000000</td>\n",
       "    </tr>\n",
       "  </tbody>\n",
       "</table>\n",
       "</div>"
      ],
      "text/plain": [
       "                 amt            zip            lat           long  \\\n",
       "count  463098.000000  463098.000000  463098.000000  463098.000000   \n",
       "mean       69.392401   48851.673343      38.542495     -90.238083   \n",
       "std       156.999514   26856.378049       5.061578      13.727205   \n",
       "min         1.000000    1257.000000      20.027100    -165.672300   \n",
       "25%         9.630000   26250.750000      34.668900     -96.809400   \n",
       "50%        47.330000   48174.000000      39.371600     -87.476900   \n",
       "75%        83.030000   72011.000000      41.894800     -80.175200   \n",
       "max     22768.110000   99921.000000      65.689900     -67.950300   \n",
       "\n",
       "           city_pop     unix_time      merch_lat     merch_long       is_fraud  \n",
       "count  4.630980e+05  4.630980e+05  463098.000000  463098.000000  463098.000000  \n",
       "mean   8.802435e+04  1.382179e+09      38.542291     -90.238094       0.003800  \n",
       "std    3.000589e+05  4.340254e+06       5.095765      13.737948       0.061531  \n",
       "min    2.300000e+01  1.374582e+09      19.027422    -166.671575       0.000000  \n",
       "25%    7.410000e+02  1.378078e+09      34.753619     -96.910884       0.000000  \n",
       "50%    2.408000e+03  1.382508e+09      39.376431     -87.450318       0.000000  \n",
       "75%    1.968500e+04  1.386354e+09      41.952463     -80.267863       0.000000  \n",
       "max    2.906700e+06  1.388534e+09      66.679297     -66.952026       1.000000  "
      ]
     },
     "execution_count": 85,
     "metadata": {},
     "output_type": "execute_result"
    }
   ],
   "source": [
    "summary=df.describe()\n",
    "summary"
   ]
  },
  {
   "cell_type": "code",
   "execution_count": 86,
   "id": "1e215775-a7cf-4abd-b68b-3116b560856e",
   "metadata": {},
   "outputs": [],
   "source": [
    "df.to_csv('../Data/Batch 4/CleanTrain.csv',index=False)\n",
    "summary.to_csv('../Data/Batch 4/CleanTrainSummary.csv',index=True)"
   ]
  },
  {
   "cell_type": "code",
   "execution_count": null,
   "id": "62f43cda-d929-429f-b22b-4c5bcbb3c461",
   "metadata": {},
   "outputs": [],
   "source": []
  }
 ],
 "metadata": {
  "kernelspec": {
   "display_name": "Python 3 (ipykernel)",
   "language": "python",
   "name": "python3"
  },
  "language_info": {
   "codemirror_mode": {
    "name": "ipython",
    "version": 3
   },
   "file_extension": ".py",
   "mimetype": "text/x-python",
   "name": "python",
   "nbconvert_exporter": "python",
   "pygments_lexer": "ipython3",
   "version": "3.9.15"
  }
 },
 "nbformat": 4,
 "nbformat_minor": 5
}
